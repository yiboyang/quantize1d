{
 "cells": [
  {
   "cell_type": "code",
   "execution_count": 1,
   "metadata": {
    "collapsed": false
   },
   "outputs": [],
   "source": [
    "import numpy as np\n",
    "np.random.seed(0)\n",
    "import quantizer\n",
    "from quantizer import Quantizer\n",
    "\n",
    "# N = int(1e8) # sklearn.KMeans crashes on my laptop\n",
    "N = int(1e6)\n",
    "K = 50\n",
    "x = np.random.rand(N).astype(quantizer.value_type) # data needs to match the compile type (quantizer.value_type)\n",
    "m = 200"
   ]
  },
  {
   "cell_type": "code",
   "execution_count": 2,
   "metadata": {
    "collapsed": false
   },
   "outputs": [],
   "source": [
    "q=Quantizer(N,K)"
   ]
  },
  {
   "cell_type": "code",
   "execution_count": 3,
   "metadata": {
    "collapsed": false
   },
   "outputs": [
    {
     "name": "stdout",
     "output_type": "stream",
     "text": [
      "CPU times: user 412 ms, sys: 20 ms, total: 432 ms\n",
      "Wall time: 135 ms\n"
     ]
    },
    {
     "data": {
      "text/plain": [
       "200"
      ]
     },
     "execution_count": 3,
     "metadata": {},
     "output_type": "execute_result"
    }
   ],
   "source": [
    "%time q.kmeans_cluster(x, max_iterations=m)"
   ]
  },
  {
   "cell_type": "code",
   "execution_count": 4,
   "metadata": {
    "collapsed": false
   },
   "outputs": [
    {
     "name": "stdout",
     "output_type": "stream",
     "text": [
      "cluster centers [ 0.01016973  0.03041439  0.0505928   0.07056451  0.09027449  0.10973431\n",
      "  0.12915495  0.14865719  0.16822204  0.18795262  0.20771705  0.22750589\n",
      "  0.24746175  0.26742154  0.28776455  0.30813     0.3288126   0.3493731\n",
      "  0.36971489  0.38998738  0.41019455  0.43040544  0.45069587  0.47101259\n",
      "  0.49123755  0.51138407  0.5316031   0.55159724  0.57157117  0.59136724\n",
      "  0.61101544  0.63102019  0.6510796   0.67104882  0.69110286  0.71136022\n",
      "  0.73149818  0.75159788  0.7717194   0.79179436  0.81192088  0.83189815\n",
      "  0.85193592  0.87192619  0.89168465  0.91154814  0.93122989  0.95072162\n",
      "  0.9703784   0.99014717]\n",
      "kmeans loss 3.3315e-05\n"
     ]
    }
   ],
   "source": [
    "print('cluster centers', q.cluster_centers)\n",
    "print('kmeans loss', np.mean(np.square(x - q.cluster_centers[q.cluster_assignments])))"
   ]
  },
  {
   "cell_type": "code",
   "execution_count": 5,
   "metadata": {
    "collapsed": true
   },
   "outputs": [],
   "source": [
    "from sklearn.cluster import KMeans"
   ]
  },
  {
   "cell_type": "code",
   "execution_count": 6,
   "metadata": {
    "collapsed": false
   },
   "outputs": [
    {
     "name": "stdout",
     "output_type": "stream",
     "text": [
      "CPU times: user 532 ms, sys: 124 ms, total: 656 ms\n",
      "Wall time: 1min 48s\n"
     ]
    }
   ],
   "source": [
    "%time kmeans = KMeans(n_clusters=K, random_state=0, max_iter=m, n_jobs=4).fit(np.reshape(x, [-1, 1]))\n",
    "# the default call (without n_jobs=4) is single-threaded and will be even slower"
   ]
  },
  {
   "cell_type": "code",
   "execution_count": 7,
   "metadata": {
    "collapsed": false
   },
   "outputs": [
    {
     "name": "stdout",
     "output_type": "stream",
     "text": [
      "cluster centers [ 0.01075414  0.03204197  0.05301285  0.07358435  0.09375182  0.11383149\n",
      "  0.133926    0.15422475  0.17483693  0.19584203  0.21706921  0.23839846\n",
      "  0.25952852  0.28051063  0.3010031   0.32113636  0.34058928  0.35969844\n",
      "  0.37860337  0.39728492  0.41603839  0.43480313  0.45411852  0.47400317\n",
      "  0.4941968   0.51432723  0.53437787  0.55404431  0.57381845  0.59362006\n",
      "  0.61357039  0.63416409  0.65514708  0.67609704  0.69688201  0.71760583\n",
      "  0.73772168  0.75741971  0.77678216  0.79589862  0.8150385   0.8340112\n",
      "  0.85334933  0.87287146  0.89224231  0.91183668  0.93136072  0.95078123\n",
      "  0.9703989   0.99015278]\n",
      "kmeans loss 3.34436e-05\n"
     ]
    }
   ],
   "source": [
    "print('cluster centers', np.sort(kmeans.cluster_centers_.ravel()))\n",
    "print('kmeans loss', np.mean(np.square(x - kmeans.cluster_centers_[kmeans.labels_].ravel())))"
   ]
  }
 ],
 "metadata": {
  "kernelspec": {
   "display_name": "Python 3",
   "language": "python",
   "name": "python3"
  },
  "language_info": {
   "codemirror_mode": {
    "name": "ipython",
    "version": 3
   },
   "file_extension": ".py",
   "mimetype": "text/x-python",
   "name": "python",
   "nbconvert_exporter": "python",
   "pygments_lexer": "ipython3",
   "version": "3.5.3"
  }
 },
 "nbformat": 4,
 "nbformat_minor": 0
}
